{
  "nbformat": 4,
  "nbformat_minor": 0,
  "metadata": {
    "colab": {
      "name": "aoitest.ipynb",
      "version": "0.3.2",
      "provenance": [],
      "collapsed_sections": []
    },
    "kernelspec": {
      "name": "python3",
      "display_name": "Python 3"
    },
    "accelerator": "GPU"
  },
  "cells": [
    {
      "cell_type": "code",
      "metadata": {
        "id": "aczgUao3Cs-Y",
        "colab_type": "code",
        "colab": {}
      },
      "source": [
        "from google.colab import drive\n",
        "drive.mount('/content/gdrive')\n",
        "path = \"gdrive/My Drive/Colab Notebooks\"\n",
        "!ls  \"gdrive/My Drive/aoi\"\n",
        "#!tar xvf \"gdrive/My Drive/zip123/aoi.tar\"\n",
        "#!cp \"gdrive/My Drive/zip123/aoi.zip ./\"\n",
        "#!unzip \"gdrive/My Drive/zip123/aoi(csv)\"\n",
        "#!unzip \"gdrive/My Drive/zip123/aoi\"\n",
        "#!unzip \"gdrive/My Drive/aoi/test_images\"\n",
        "#!unzip \"gdrive/My Drive/aoi/train_images\"\n",
        "#!ls  "
      ],
      "execution_count": 0,
      "outputs": []
    },
    {
      "cell_type": "code",
      "metadata": {
        "id": "lPOmpaLeD6SJ",
        "colab_type": "code",
        "colab": {}
      },
      "source": [
        "import tensorflow as tf\n",
        "import csv\n",
        "import pandas as pd\n",
        "import cv2\n",
        "import pdb\n",
        "import random as rn\n",
        "import numpy as np"
      ],
      "execution_count": 0,
      "outputs": []
    },
    {
      "cell_type": "code",
      "metadata": {
        "id": "oieRHywgde_O",
        "colab_type": "code",
        "outputId": "4958dc0b-d77e-489c-84f8-e23d149bd913",
        "colab": {
          "base_uri": "https://localhost:8080/",
          "height": 34
        }
      },
      "source": [
        "#read\n",
        "train=pd.read_csv('gdrive/My Drive/aoi/train.csv')\n",
        "print(train.shape)\n",
        "\n",
        "timg=[]\n",
        "lab=[]\n",
        "\n",
        "#set train\n",
        "for i in range(train.shape[0]):\n",
        "  img = cv2.imread('train_images/'+train['ID'][i],0)\n",
        "  img = np.resize(img,(256,256,1))/255\n",
        "  timg.append(img)\n",
        "  lab.append(train['Label'][i])\n",
        "  #print(\"fin:\"+str(i)+\"/\",train.shape[0])\n",
        "x_array = np.asarray(timg,np.float32)"
      ],
      "execution_count": 0,
      "outputs": [
        {
          "output_type": "stream",
          "text": [
            "(2528, 2)\n"
          ],
          "name": "stdout"
        }
      ]
    },
    {
      "cell_type": "code",
      "metadata": {
        "id": "SRbgjW_EyY7x",
        "colab_type": "code",
        "outputId": "71023485-9565-4cc5-f7bd-0c29302e14b7",
        "colab": {
          "base_uri": "https://localhost:8080/",
          "height": 34
        }
      },
      "source": [
        "#set test\n",
        "test=pd.read_csv('gdrive/My Drive/aoi/test.csv')\n",
        "print(test.shape)\n",
        "x_test=test['ID']\n",
        "tstimg=[]\n",
        "for i in range(len(x_test)):\n",
        "  img=cv2.imread('test_images/'+x_test[i],0)\n",
        "  img = np.resize(img,(256,256,1))/255\n",
        "  tstimg.append(img)\n",
        "  #print(\"fin:\"+str(i)+\"/\",x_test.shape[0])\n",
        "tx_array = np.asarray(tstimg,np.float32)"
      ],
      "execution_count": 0,
      "outputs": [
        {
          "output_type": "stream",
          "text": [
            "(10142, 2)\n"
          ],
          "name": "stdout"
        }
      ]
    },
    {
      "cell_type": "code",
      "metadata": {
        "id": "Z2cXQnuUBNID",
        "colab_type": "code",
        "outputId": "fbff1088-74ed-49d8-de9a-795c883acd29",
        "colab": {
          "base_uri": "https://localhost:8080/",
          "height": 34
        }
      },
      "source": [
        "from keras.utils import *\n",
        "from keras.models import Sequential\n",
        "from keras.layers import Dense, Activation, Flatten, Dropout\n",
        "from keras.layers import Conv2D, MaxPooling2D\n",
        "from keras.optimizers import Adam\n",
        "from keras.preprocessing.image import ImageDataGenerator\n",
        "import matplotlib.pyplot as plt\n",
        "from keras import optimizers"
      ],
      "execution_count": 0,
      "outputs": [
        {
          "output_type": "stream",
          "text": [
            "Using TensorFlow backend.\n"
          ],
          "name": "stderr"
        }
      ]
    },
    {
      "cell_type": "code",
      "metadata": {
        "id": "LJRiBtX4BRlP",
        "colab_type": "code",
        "outputId": "6b3f55b0-6ef4-4f93-f6ed-472437a8191f",
        "colab": {
          "base_uri": "https://localhost:8080/",
          "height": 1057
        }
      },
      "source": [
        "model = Sequential()\n",
        "#mnist 是28x28的灰階圖(28,28,1) = > 28x28=784個輸入\n",
        "#model.add(Dense(units=256,input_dim=784,kernel_initializer=\"normal\",activation=\"relu\"))\n",
        "#units=10 : 10個輸出\n",
        "#model.add(Dense(units=10,kernel_initializer=\"normal\",activation=\"softmax\"))\n",
        "\n",
        "#print(model.summary())\n",
        "\n",
        "#model.compile(loss=\"categorical_crossentropy\",optimizer=\"adam\",metrics=\"accuracy\")\n",
        "\n",
        "#valid  same\n",
        "\n",
        "model.add(Conv2D(filters=32, kernel_size=(3,3),activation=\"relu\",padding=\"same\",data_format=\"channels_last\",input_shape=(256,256,1)))\n",
        "model.add(Conv2D(filters=32, kernel_size=(3,3),activation=\"relu\",padding=\"same\",data_format=\"channels_last\"))\n",
        "model.add(MaxPooling2D(pool_size=(2,2),data_format=\"channels_last\"))\n",
        "#model.add(Dropout(0.25))\n",
        "\n",
        "#model.add(Conv2D(filters=32, kernel_size=(2,2),activation=\"relu\",padding=\"same\",data_format=\"channels_last\"))\n",
        "#model.add(Conv2D(filters=32, kernel_size=(2,2),activation=\"relu\",padding=\"same\",data_format=\"channels_last\"))\n",
        "#model.add(MaxPooling2D(pool_size=(2,2),data_format=\"channels_last\"))\n",
        "#model.add(Dropout(0.25))\n",
        "\n",
        "model.add(Conv2D(filters=64, kernel_size=(3,3),activation=\"relu\",padding=\"same\",data_format=\"channels_last\"))\n",
        "model.add(Conv2D(filters=64, kernel_size=(3,3),activation=\"relu\",padding=\"same\",data_format=\"channels_last\"))\n",
        "model.add(MaxPooling2D(pool_size=(3,3),data_format=\"channels_last\"))\n",
        "#model.add(Dropout(0.25))\n",
        "\n",
        "#model.add(Conv2D(filters=128, kernel_size=(3,3),activation=\"relu\",padding=\"valid\",data_format=\"channels_last\"))\n",
        "model.add(Conv2D(filters=128, kernel_size=(3,3),activation=\"relu\",padding=\"same\",data_format=\"channels_last\"))\n",
        "#model.add(Conv2D(filters=128, kernel_size=(3,3),activation=\"relu\",padding=\"same\",data_format=\"channels_last\"))\n",
        "model.add(MaxPooling2D(pool_size=(3,3),data_format=\"channels_last\"))\n",
        "#model.add(Dropout(0.25))\n",
        "\n",
        "model.add(Conv2D(filters=256, kernel_size=(3,3),activation=\"relu\",padding=\"same\",data_format=\"channels_last\"))\n",
        "#model.add(Conv2D(filters=256, kernel_size=(3,3),activation=\"relu\",padding=\"same\",data_format=\"channels_last\"))\n",
        "#model.add(Conv2D(filters=256, kernel_size=(2,2),activation=\"relu\",padding=\"same\",data_format=\"channels_last\"))\n",
        "model.add(MaxPooling2D(pool_size=(2,2),data_format=\"channels_last\"))\n",
        "#model.add(Dropout(0.25))\n",
        "\n",
        "model.add(Conv2D(filters=512, kernel_size=(3,3),activation=\"relu\",padding=\"same\",data_format=\"channels_last\"))\n",
        "model.add(MaxPooling2D(pool_size=(2,2),data_format=\"channels_last\"))\n",
        "\n",
        "model.add(Conv2D(filters=512, kernel_size=(3,3),activation=\"relu\",padding=\"same\",data_format=\"channels_last\"))\n",
        "model.add(MaxPooling2D(pool_size=(2,2),data_format=\"channels_last\"))\n",
        "#model.add(Dropout(0.25))\n",
        "\n",
        "#model.add(Conv2D(filters=2048, kernel_size=(2,2),activation=\"relu\",padding=\"valid\",data_format=\"channels_last\"))\n",
        "#model.add(MaxPooling2D(pool_size=(2,2),data_format=\"channels_last\"))\n",
        "\n",
        "model.add(Flatten())\n",
        "#model.add(Dropout(0.25))\n",
        "model.add(Dense(512,activation=\"relu\"))\n",
        "model.add(Dense(256,activation=\"relu\"))\n",
        "model.add(Dropout(0.25))\n",
        "model.add(Dense(6,activation=\"softmax\"))\n",
        "\n",
        "#layer_utils.print_summary(model)\n",
        "print(model.summary())"
      ],
      "execution_count": 0,
      "outputs": [
        {
          "output_type": "stream",
          "text": [
            "WARNING: Logging before flag parsing goes to stderr.\n",
            "W0621 08:42:02.235898 139881383143296 deprecation_wrapper.py:119] From /usr/local/lib/python3.6/dist-packages/keras/backend/tensorflow_backend.py:74: The name tf.get_default_graph is deprecated. Please use tf.compat.v1.get_default_graph instead.\n",
            "\n",
            "W0621 08:42:02.307271 139881383143296 deprecation_wrapper.py:119] From /usr/local/lib/python3.6/dist-packages/keras/backend/tensorflow_backend.py:517: The name tf.placeholder is deprecated. Please use tf.compat.v1.placeholder instead.\n",
            "\n",
            "W0621 08:42:02.332092 139881383143296 deprecation_wrapper.py:119] From /usr/local/lib/python3.6/dist-packages/keras/backend/tensorflow_backend.py:4138: The name tf.random_uniform is deprecated. Please use tf.random.uniform instead.\n",
            "\n",
            "W0621 08:42:02.376763 139881383143296 deprecation_wrapper.py:119] From /usr/local/lib/python3.6/dist-packages/keras/backend/tensorflow_backend.py:3976: The name tf.nn.max_pool is deprecated. Please use tf.nn.max_pool2d instead.\n",
            "\n",
            "W0621 08:42:02.497048 139881383143296 deprecation_wrapper.py:119] From /usr/local/lib/python3.6/dist-packages/keras/backend/tensorflow_backend.py:133: The name tf.placeholder_with_default is deprecated. Please use tf.compat.v1.placeholder_with_default instead.\n",
            "\n",
            "W0621 08:42:02.507045 139881383143296 deprecation.py:506] From /usr/local/lib/python3.6/dist-packages/keras/backend/tensorflow_backend.py:3445: calling dropout (from tensorflow.python.ops.nn_ops) with keep_prob is deprecated and will be removed in a future version.\n",
            "Instructions for updating:\n",
            "Please use `rate` instead of `keep_prob`. Rate should be set to `rate = 1 - keep_prob`.\n"
          ],
          "name": "stderr"
        },
        {
          "output_type": "stream",
          "text": [
            "_________________________________________________________________\n",
            "Layer (type)                 Output Shape              Param #   \n",
            "=================================================================\n",
            "conv2d_1 (Conv2D)            (None, 256, 256, 32)      320       \n",
            "_________________________________________________________________\n",
            "conv2d_2 (Conv2D)            (None, 256, 256, 32)      9248      \n",
            "_________________________________________________________________\n",
            "max_pooling2d_1 (MaxPooling2 (None, 128, 128, 32)      0         \n",
            "_________________________________________________________________\n",
            "conv2d_3 (Conv2D)            (None, 128, 128, 64)      18496     \n",
            "_________________________________________________________________\n",
            "conv2d_4 (Conv2D)            (None, 128, 128, 64)      36928     \n",
            "_________________________________________________________________\n",
            "max_pooling2d_2 (MaxPooling2 (None, 42, 42, 64)        0         \n",
            "_________________________________________________________________\n",
            "conv2d_5 (Conv2D)            (None, 42, 42, 128)       73856     \n",
            "_________________________________________________________________\n",
            "max_pooling2d_3 (MaxPooling2 (None, 14, 14, 128)       0         \n",
            "_________________________________________________________________\n",
            "conv2d_6 (Conv2D)            (None, 14, 14, 256)       295168    \n",
            "_________________________________________________________________\n",
            "max_pooling2d_4 (MaxPooling2 (None, 7, 7, 256)         0         \n",
            "_________________________________________________________________\n",
            "conv2d_7 (Conv2D)            (None, 7, 7, 512)         1180160   \n",
            "_________________________________________________________________\n",
            "max_pooling2d_5 (MaxPooling2 (None, 3, 3, 512)         0         \n",
            "_________________________________________________________________\n",
            "conv2d_8 (Conv2D)            (None, 3, 3, 512)         2359808   \n",
            "_________________________________________________________________\n",
            "max_pooling2d_6 (MaxPooling2 (None, 1, 1, 512)         0         \n",
            "_________________________________________________________________\n",
            "flatten_1 (Flatten)          (None, 512)               0         \n",
            "_________________________________________________________________\n",
            "dense_1 (Dense)              (None, 512)               262656    \n",
            "_________________________________________________________________\n",
            "dense_2 (Dense)              (None, 256)               131328    \n",
            "_________________________________________________________________\n",
            "dropout_1 (Dropout)          (None, 256)               0         \n",
            "_________________________________________________________________\n",
            "dense_3 (Dense)              (None, 6)                 1542      \n",
            "=================================================================\n",
            "Total params: 4,369,510\n",
            "Trainable params: 4,369,510\n",
            "Non-trainable params: 0\n",
            "_________________________________________________________________\n",
            "None\n"
          ],
          "name": "stdout"
        }
      ]
    },
    {
      "cell_type": "code",
      "metadata": {
        "id": "p5H7h_OKBUyo",
        "colab_type": "code",
        "outputId": "27186dd1-8238-4be8-dc2d-81c2bb4fe039",
        "colab": {
          "base_uri": "https://localhost:8080/",
          "height": 513
        }
      },
      "source": [
        "####\n",
        "y_train_onehot= np_utils.to_categorical(lab)\n",
        "####z\n",
        "\n",
        "#print(lab)\n",
        "#print(y_train_onehot)\n",
        "adm = optimizers.Adam(lr=0.001, beta_1=0.9, beta_2=0.999, epsilon=None, decay=0.01, amsgrad=False)\n",
        "#model.compile(loss='categorical_crossentropy', optimizer=Adam(), metrics=['accuracy'])\n",
        "model.compile(loss='categorical_crossentropy', optimizer=adm , metrics=['accuracy'])\n",
        "train_history = model.fit(x_array,y_train_onehot,validation_split=0.2,epochs=200,batch_size=32,verbose=1)"
      ],
      "execution_count": 0,
      "outputs": [
        {
          "output_type": "stream",
          "text": [
            "W0621 08:42:02.569841 139881383143296 deprecation_wrapper.py:119] From /usr/local/lib/python3.6/dist-packages/keras/optimizers.py:790: The name tf.train.Optimizer is deprecated. Please use tf.compat.v1.train.Optimizer instead.\n",
            "\n",
            "W0621 08:42:02.579891 139881383143296 deprecation_wrapper.py:119] From /usr/local/lib/python3.6/dist-packages/keras/backend/tensorflow_backend.py:3295: The name tf.log is deprecated. Please use tf.math.log instead.\n",
            "\n",
            "W0621 08:42:02.720686 139881383143296 deprecation.py:323] From /usr/local/lib/python3.6/dist-packages/tensorflow/python/ops/math_grad.py:1250: add_dispatch_support.<locals>.wrapper (from tensorflow.python.ops.array_ops) is deprecated and will be removed in a future version.\n",
            "Instructions for updating:\n",
            "Use tf.where in 2.0, which has the same broadcast rule as np.where\n"
          ],
          "name": "stderr"
        },
        {
          "output_type": "stream",
          "text": [
            "Train on 2022 samples, validate on 506 samples\n",
            "Epoch 1/10\n",
            "2022/2022 [==============================] - 23s 11ms/step - loss: 1.6961 - acc: 0.2626 - val_loss: 1.6645 - val_acc: 0.2510\n",
            "Epoch 2/10\n",
            "2022/2022 [==============================] - 10s 5ms/step - loss: 1.6641 - acc: 0.2646 - val_loss: 1.6679 - val_acc: 0.2648\n",
            "Epoch 3/10\n",
            "2022/2022 [==============================] - 10s 5ms/step - loss: 1.6623 - acc: 0.2537 - val_loss: 1.6646 - val_acc: 0.2510\n",
            "Epoch 4/10\n",
            "2022/2022 [==============================] - 10s 5ms/step - loss: 1.6571 - acc: 0.2557 - val_loss: 1.6646 - val_acc: 0.2510\n",
            "Epoch 5/10\n",
            "2022/2022 [==============================] - 10s 5ms/step - loss: 1.6637 - acc: 0.2557 - val_loss: 1.6620 - val_acc: 0.4506\n",
            "Epoch 6/10\n",
            "2022/2022 [==============================] - 10s 5ms/step - loss: 1.6493 - acc: 0.2770 - val_loss: 1.6031 - val_acc: 0.4407\n",
            "Epoch 7/10\n",
            "2022/2022 [==============================] - 10s 5ms/step - loss: 1.5073 - acc: 0.3828 - val_loss: 1.3064 - val_acc: 0.4901\n",
            "Epoch 8/10\n",
            "2022/2022 [==============================] - 10s 5ms/step - loss: 1.2405 - acc: 0.5104 - val_loss: 1.1173 - val_acc: 0.4901\n",
            "Epoch 9/10\n",
            "2022/2022 [==============================] - 10s 5ms/step - loss: 1.1148 - acc: 0.5435 - val_loss: 1.0438 - val_acc: 0.5277\n",
            "Epoch 10/10\n",
            "2022/2022 [==============================] - 10s 5ms/step - loss: 1.1706 - acc: 0.5183 - val_loss: 1.2086 - val_acc: 0.5296\n"
          ],
          "name": "stdout"
        }
      ]
    },
    {
      "cell_type": "code",
      "metadata": {
        "id": "81kg99wZBng3",
        "colab_type": "code",
        "colab": {}
      },
      "source": [
        "def show_train_history(train_history, train, validation):\n",
        "    plt.plot(train_history.history[train])\n",
        "    plt.plot(train_history.history[validation])\n",
        "    plt.title(\"Train History\")\n",
        "    plt.ylabel(train)\n",
        "    plt.xlabel('Epoch')\n",
        "    plt.show()"
      ],
      "execution_count": 0,
      "outputs": []
    },
    {
      "cell_type": "code",
      "metadata": {
        "id": "YJ_Z7hGaBnxJ",
        "colab_type": "code",
        "outputId": "b4eeedfc-2e1b-41c9-a695-ed3700e8597b",
        "colab": {
          "base_uri": "https://localhost:8080/",
          "height": 573
        }
      },
      "source": [
        "show_train_history(train_history,'acc','val_acc')\n",
        "show_train_history(train_history, 'loss', 'val_loss')"
      ],
      "execution_count": 0,
      "outputs": [
        {
          "output_type": "display_data",
          "data": {
            "image/png": "[encoded data removed]",
            "text/plain": [
              "<Figure size 432x288 with 1 Axes>"
            ]
          },
          "metadata": {
            "tags": []
          }
        },
        {
          "output_type": "display_data",
          "data": {
            "image/png": "[encoded data removed]",
            "text/plain": [
              "<Figure size 432x288 with 1 Axes>"
            ]
          },
          "metadata": {
            "tags": []
          }
        }
      ]
    },
    {
      "cell_type": "code",
      "metadata": {
        "id": "LZ8bdh7nBn_W",
        "colab_type": "code",
        "outputId": "15b9d2a0-8aa8-4a62-deae-cc1f50f3c3f0",
        "colab": {
          "base_uri": "https://localhost:8080/",
          "height": 68
        }
      },
      "source": [
        "loss, accuracy = model.evaluate(x_array,y_train_onehot)\n",
        "print(\"\\nLoss: %.2f, Accuracy: %.2f%%\" % (loss, accuracy*100))"
      ],
      "execution_count": 0,
      "outputs": [
        {
          "output_type": "stream",
          "text": [
            "2528/2528 [==============================] - 4s 1ms/step\n",
            "\n",
            "Loss: 1.23, Accuracy: 50.91%\n"
          ],
          "name": "stdout"
        }
      ]
    },
    {
      "cell_type": "code",
      "metadata": {
        "id": "FfOQSASUBoNA",
        "colab_type": "code",
        "colab": {}
      },
      "source": [
        "#y_test_onehot = np_utils.to_categorical(y_test)\n",
        "#print(y_test_onehot)\n",
        "#score = model.evaluate(tx_array)\n",
        "Y_pred = model.predict(tx_array)\n",
        "predictions = model.predict_classes(tx_array)"
      ],
      "execution_count": 0,
      "outputs": []
    },
    {
      "cell_type": "code",
      "metadata": {
        "id": "4yRUZ4VhOHVY",
        "colab_type": "code",
        "colab": {}
      },
      "source": [
        "print(x_test)"
      ],
      "execution_count": 0,
      "outputs": []
    },
    {
      "cell_type": "code",
      "metadata": {
        "id": "tQGUo2kcCAeB",
        "colab_type": "code",
        "outputId": "a8bb1132-db2a-46b0-9945-5fa9bbe9fab0",
        "colab": {
          "base_uri": "https://localhost:8080/",
          "height": 170
        }
      },
      "source": [
        "print(type(Y_pred))\n",
        "#print(np_utils.to_categorical(Y_pred))\n",
        "print(predictions.shape)\n",
        "print(np_utils.to_categorical(predictions))\n",
        "#print(len(predictions))\n",
        "\n",
        "dataframe = pd.DataFrame({'ID':x_test,'Label':predictions})\n",
        "dataframe.to_csv('UPtest.csv',index=0)\n",
        "#with open('test2.csv','w',newline='') as csvfile:\n",
        "#  writer = csv.writer(csvfile)\n",
        "#  writer.writerow['Label']\n",
        "#  for i in range(len(predictions)):\n",
        "#    print(predictions[i])\n",
        "#    writer.writerow(predictions[i])\n",
        "  "
      ],
      "execution_count": 0,
      "outputs": [
        {
          "output_type": "stream",
          "text": [
            "<class 'numpy.ndarray'>\n",
            "(10142,)\n",
            "[[1. 0. 0. 0. 0. 0.]\n",
            " [1. 0. 0. 0. 0. 0.]\n",
            " [0. 0. 0. 0. 0. 1.]\n",
            " ...\n",
            " [1. 0. 0. 0. 0. 0.]\n",
            " [0. 0. 0. 1. 0. 0.]\n",
            " [0. 0. 0. 0. 0. 1.]]\n"
          ],
          "name": "stdout"
        }
      ]
    },
    {
      "cell_type": "code",
      "metadata": {
        "id": "k_UaIx8VCP-b",
        "colab_type": "code",
        "colab": {}
      },
      "source": [
        "#print(tstlab)\n",
        "#print(x_array.shape)\n",
        "#print(tx_array.shape)\n",
        "#print(tstimg[0].shape)\n",
        "\n",
        "#print(x_train[0].shape)"
      ],
      "execution_count": 0,
      "outputs": []
    }
  ]
}